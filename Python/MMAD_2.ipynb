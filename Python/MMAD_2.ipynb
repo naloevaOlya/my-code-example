{
  "nbformat": 4,
  "nbformat_minor": 0,
  "metadata": {
    "colab": {
      "provenance": []
    },
    "kernelspec": {
      "name": "python3",
      "display_name": "Python 3"
    },
    "language_info": {
      "name": "python"
    }
  },
  "cells": [
    {
      "cell_type": "markdown",
      "source": [
        "Задание\n",
        "1. Загрузить таблицу Mushroom из репозитория UCI (любого источника) в объект\n",
        "DataFrame.\n",
        "Вычислить распределение значений категориальных признаков по классам.\n",
        "Визуализировать распределения. Разбить данные на обучающую и контрольную\n",
        "выборки.\n",
        "2. Построить решающую функцию по каждой переменной на основе частот. Сравнить\n",
        "точность на обучающей и контрольной выборках. Найти наиболее информативную\n",
        "переменную.\n",
        "3. Построить «наивный» байесовский классификатор из sklearn. Оценить точность.\n",
        "4. Самостоятельно реализовать метод, не используя готовый. Сравнить полученное\n",
        "решение с библиотечным. Добавить регуляризатор в оценки частот.\n"
      ],
      "metadata": {
        "id": "2aE412MFcsFr"
      }
    },
    {
      "cell_type": "code",
      "execution_count": null,
      "metadata": {
        "id": "NaSdSeonClvb"
      },
      "outputs": [],
      "source": [
        "import pandas as pd\n",
        "import matplotlib.pyplot as plt\n",
        "import numpy as np\n",
        "from sklearn.model_selection import train_test_split\n",
        "from sklearn.naive_bayes import BernoulliNB \n",
        "from sklearn.preprocessing import OrdinalEncoder, OneHotEncoder\n",
        "import operator\n",
        "\n",
        "from sklearn.linear_model import LogisticRegression\n",
        "from scipy.special import logit"
      ]
    },
    {
      "cell_type": "code",
      "source": [
        "features = ['bruises', 'odor','gill-attachment', 'gill-spacing', 'gill-size']\n",
        "df = pd.read_csv('/content/mushrooms.csv')\n",
        "mushrooms = df[['class','bruises', 'odor','gill-attachment', 'gill-spacing', 'gill-size']]\n",
        "data_x = mushrooms[features]\n",
        "data_y = mushrooms['class']\n",
        "\n",
        "object_count = data_x.shape[0]\n",
        "features_count = data_x.shape[1]"
      ],
      "metadata": {
        "id": "Uvfm3lPjED3h"
      },
      "execution_count": null,
      "outputs": []
    },
    {
      "cell_type": "code",
      "source": [
        "mushrooms "
      ],
      "metadata": {
        "colab": {
          "base_uri": "https://localhost:8080/",
          "height": 424
        },
        "id": "gCSuxJkqEmQu",
        "outputId": "1f52324f-14d3-4f21-b265-cdd5392d1940"
      },
      "execution_count": null,
      "outputs": [
        {
          "output_type": "execute_result",
          "data": {
            "text/plain": [
              "     class bruises odor gill-attachment gill-spacing gill-size\n",
              "0        p       t    p               f            c         n\n",
              "1        e       t    a               f            c         b\n",
              "2        e       t    l               f            c         b\n",
              "3        p       t    p               f            c         n\n",
              "4        e       f    n               f            w         b\n",
              "...    ...     ...  ...             ...          ...       ...\n",
              "8119     e       f    n               a            c         b\n",
              "8120     e       f    n               a            c         b\n",
              "8121     e       f    n               a            c         b\n",
              "8122     p       f    y               f            c         n\n",
              "8123     e       f    n               a            c         b\n",
              "\n",
              "[8124 rows x 6 columns]"
            ],
            "text/html": [
              "\n",
              "  <div id=\"df-1ff2d6b9-cdfc-43f6-800e-6f1d833a8e73\">\n",
              "    <div class=\"colab-df-container\">\n",
              "      <div>\n",
              "<style scoped>\n",
              "    .dataframe tbody tr th:only-of-type {\n",
              "        vertical-align: middle;\n",
              "    }\n",
              "\n",
              "    .dataframe tbody tr th {\n",
              "        vertical-align: top;\n",
              "    }\n",
              "\n",
              "    .dataframe thead th {\n",
              "        text-align: right;\n",
              "    }\n",
              "</style>\n",
              "<table border=\"1\" class=\"dataframe\">\n",
              "  <thead>\n",
              "    <tr style=\"text-align: right;\">\n",
              "      <th></th>\n",
              "      <th>class</th>\n",
              "      <th>bruises</th>\n",
              "      <th>odor</th>\n",
              "      <th>gill-attachment</th>\n",
              "      <th>gill-spacing</th>\n",
              "      <th>gill-size</th>\n",
              "    </tr>\n",
              "  </thead>\n",
              "  <tbody>\n",
              "    <tr>\n",
              "      <th>0</th>\n",
              "      <td>p</td>\n",
              "      <td>t</td>\n",
              "      <td>p</td>\n",
              "      <td>f</td>\n",
              "      <td>c</td>\n",
              "      <td>n</td>\n",
              "    </tr>\n",
              "    <tr>\n",
              "      <th>1</th>\n",
              "      <td>e</td>\n",
              "      <td>t</td>\n",
              "      <td>a</td>\n",
              "      <td>f</td>\n",
              "      <td>c</td>\n",
              "      <td>b</td>\n",
              "    </tr>\n",
              "    <tr>\n",
              "      <th>2</th>\n",
              "      <td>e</td>\n",
              "      <td>t</td>\n",
              "      <td>l</td>\n",
              "      <td>f</td>\n",
              "      <td>c</td>\n",
              "      <td>b</td>\n",
              "    </tr>\n",
              "    <tr>\n",
              "      <th>3</th>\n",
              "      <td>p</td>\n",
              "      <td>t</td>\n",
              "      <td>p</td>\n",
              "      <td>f</td>\n",
              "      <td>c</td>\n",
              "      <td>n</td>\n",
              "    </tr>\n",
              "    <tr>\n",
              "      <th>4</th>\n",
              "      <td>e</td>\n",
              "      <td>f</td>\n",
              "      <td>n</td>\n",
              "      <td>f</td>\n",
              "      <td>w</td>\n",
              "      <td>b</td>\n",
              "    </tr>\n",
              "    <tr>\n",
              "      <th>...</th>\n",
              "      <td>...</td>\n",
              "      <td>...</td>\n",
              "      <td>...</td>\n",
              "      <td>...</td>\n",
              "      <td>...</td>\n",
              "      <td>...</td>\n",
              "    </tr>\n",
              "    <tr>\n",
              "      <th>8119</th>\n",
              "      <td>e</td>\n",
              "      <td>f</td>\n",
              "      <td>n</td>\n",
              "      <td>a</td>\n",
              "      <td>c</td>\n",
              "      <td>b</td>\n",
              "    </tr>\n",
              "    <tr>\n",
              "      <th>8120</th>\n",
              "      <td>e</td>\n",
              "      <td>f</td>\n",
              "      <td>n</td>\n",
              "      <td>a</td>\n",
              "      <td>c</td>\n",
              "      <td>b</td>\n",
              "    </tr>\n",
              "    <tr>\n",
              "      <th>8121</th>\n",
              "      <td>e</td>\n",
              "      <td>f</td>\n",
              "      <td>n</td>\n",
              "      <td>a</td>\n",
              "      <td>c</td>\n",
              "      <td>b</td>\n",
              "    </tr>\n",
              "    <tr>\n",
              "      <th>8122</th>\n",
              "      <td>p</td>\n",
              "      <td>f</td>\n",
              "      <td>y</td>\n",
              "      <td>f</td>\n",
              "      <td>c</td>\n",
              "      <td>n</td>\n",
              "    </tr>\n",
              "    <tr>\n",
              "      <th>8123</th>\n",
              "      <td>e</td>\n",
              "      <td>f</td>\n",
              "      <td>n</td>\n",
              "      <td>a</td>\n",
              "      <td>c</td>\n",
              "      <td>b</td>\n",
              "    </tr>\n",
              "  </tbody>\n",
              "</table>\n",
              "<p>8124 rows × 6 columns</p>\n",
              "</div>\n",
              "      <button class=\"colab-df-convert\" onclick=\"convertToInteractive('df-1ff2d6b9-cdfc-43f6-800e-6f1d833a8e73')\"\n",
              "              title=\"Convert this dataframe to an interactive table.\"\n",
              "              style=\"display:none;\">\n",
              "        \n",
              "  <svg xmlns=\"http://www.w3.org/2000/svg\" height=\"24px\"viewBox=\"0 0 24 24\"\n",
              "       width=\"24px\">\n",
              "    <path d=\"M0 0h24v24H0V0z\" fill=\"none\"/>\n",
              "    <path d=\"M18.56 5.44l.94 2.06.94-2.06 2.06-.94-2.06-.94-.94-2.06-.94 2.06-2.06.94zm-11 1L8.5 8.5l.94-2.06 2.06-.94-2.06-.94L8.5 2.5l-.94 2.06-2.06.94zm10 10l.94 2.06.94-2.06 2.06-.94-2.06-.94-.94-2.06-.94 2.06-2.06.94z\"/><path d=\"M17.41 7.96l-1.37-1.37c-.4-.4-.92-.59-1.43-.59-.52 0-1.04.2-1.43.59L10.3 9.45l-7.72 7.72c-.78.78-.78 2.05 0 2.83L4 21.41c.39.39.9.59 1.41.59.51 0 1.02-.2 1.41-.59l7.78-7.78 2.81-2.81c.8-.78.8-2.07 0-2.86zM5.41 20L4 18.59l7.72-7.72 1.47 1.35L5.41 20z\"/>\n",
              "  </svg>\n",
              "      </button>\n",
              "      \n",
              "  <style>\n",
              "    .colab-df-container {\n",
              "      display:flex;\n",
              "      flex-wrap:wrap;\n",
              "      gap: 12px;\n",
              "    }\n",
              "\n",
              "    .colab-df-convert {\n",
              "      background-color: #E8F0FE;\n",
              "      border: none;\n",
              "      border-radius: 50%;\n",
              "      cursor: pointer;\n",
              "      display: none;\n",
              "      fill: #1967D2;\n",
              "      height: 32px;\n",
              "      padding: 0 0 0 0;\n",
              "      width: 32px;\n",
              "    }\n",
              "\n",
              "    .colab-df-convert:hover {\n",
              "      background-color: #E2EBFA;\n",
              "      box-shadow: 0px 1px 2px rgba(60, 64, 67, 0.3), 0px 1px 3px 1px rgba(60, 64, 67, 0.15);\n",
              "      fill: #174EA6;\n",
              "    }\n",
              "\n",
              "    [theme=dark] .colab-df-convert {\n",
              "      background-color: #3B4455;\n",
              "      fill: #D2E3FC;\n",
              "    }\n",
              "\n",
              "    [theme=dark] .colab-df-convert:hover {\n",
              "      background-color: #434B5C;\n",
              "      box-shadow: 0px 1px 3px 1px rgba(0, 0, 0, 0.15);\n",
              "      filter: drop-shadow(0px 1px 2px rgba(0, 0, 0, 0.3));\n",
              "      fill: #FFFFFF;\n",
              "    }\n",
              "  </style>\n",
              "\n",
              "      <script>\n",
              "        const buttonEl =\n",
              "          document.querySelector('#df-1ff2d6b9-cdfc-43f6-800e-6f1d833a8e73 button.colab-df-convert');\n",
              "        buttonEl.style.display =\n",
              "          google.colab.kernel.accessAllowed ? 'block' : 'none';\n",
              "\n",
              "        async function convertToInteractive(key) {\n",
              "          const element = document.querySelector('#df-1ff2d6b9-cdfc-43f6-800e-6f1d833a8e73');\n",
              "          const dataTable =\n",
              "            await google.colab.kernel.invokeFunction('convertToInteractive',\n",
              "                                                     [key], {});\n",
              "          if (!dataTable) return;\n",
              "\n",
              "          const docLinkHtml = 'Like what you see? Visit the ' +\n",
              "            '<a target=\"_blank\" href=https://colab.research.google.com/notebooks/data_table.ipynb>data table notebook</a>'\n",
              "            + ' to learn more about interactive tables.';\n",
              "          element.innerHTML = '';\n",
              "          dataTable['output_type'] = 'display_data';\n",
              "          await google.colab.output.renderOutput(dataTable, element);\n",
              "          const docLink = document.createElement('div');\n",
              "          docLink.innerHTML = docLinkHtml;\n",
              "          element.appendChild(docLink);\n",
              "        }\n",
              "      </script>\n",
              "    </div>\n",
              "  </div>\n",
              "  "
            ]
          },
          "metadata": {},
          "execution_count": 74
        }
      ]
    },
    {
      "cell_type": "code",
      "source": [
        "mushrooms.shape"
      ],
      "metadata": {
        "colab": {
          "base_uri": "https://localhost:8080/"
        },
        "id": "gOKZv_mcdbNL",
        "outputId": "aaaf0fa1-99da-47fb-b16b-95a2e6bc40a8"
      },
      "execution_count": null,
      "outputs": [
        {
          "output_type": "execute_result",
          "data": {
            "text/plain": [
              "(8124, 6)"
            ]
          },
          "metadata": {},
          "execution_count": 75
        }
      ]
    },
    {
      "cell_type": "code",
      "source": [
        "fig, axs = plt.subplots(2, 4, figsize=(15,10))\n",
        "for i in range(2):\n",
        "    for j in range(4):\n",
        "        if i*4 + j >= features_count:\n",
        "            axs[i, j].axis('off')\n",
        "            continue\n",
        "        feature = features[i*4+j]         \n",
        "        edible_feature_values, edible_feature_values_counts = \\\n",
        "            np.unique(data_x[data_y == 'e'][feature], return_counts=True)\n",
        "        poisonous_feature_values, poisonous_feature_values_counts = \\\n",
        "            np.unique(data_x[data_y == 'p'][feature], return_counts=True)\n",
        "        \n",
        "        axs[i, j].bar(edible_feature_values, edible_feature_values_counts, width=0.2, label='съедобный')\n",
        "        axs[i, j].bar(poisonous_feature_values, poisonous_feature_values_counts, width=0.1, label='ядовитый')\n",
        "        axs[i, j].set_title(feature)\n",
        "        axs[i, j].legend()\n",
        "        \n",
        "        edible_distributions = dict(zip(edible_feature_values, edible_feature_values_counts/object_count))\n",
        "        poisonous_distributions = dict(zip(edible_feature_values, poisonous_feature_values_counts/object_count))"
      ],
      "metadata": {
        "colab": {
          "base_uri": "https://localhost:8080/",
          "height": 607
        },
        "id": "quaVOZmadw0m",
        "outputId": "5361daf3-540c-44aa-8008-e7d0dc022bfb"
      },
      "execution_count": null,
      "outputs": [
        {
          "output_type": "display_data",
          "data": {
            "text/plain": [
              "<Figure size 1080x720 with 8 Axes>"
            ],
            "image/png": "[encoded data removed]"
          },
          "metadata": {
            "needs_background": "light"
          }
        }
      ]
    },
    {
      "cell_type": "code",
      "source": [
        "encoder = OneHotEncoder().fit(data_x)\n",
        "data_x_onehot = encoder.transform(data_x).toarray()\n",
        "data_x_train, data_x_test, data_y_train, data_y_test = \\\n",
        "    train_test_split(data_x_onehot, data_y, test_size=0.3)"
      ],
      "metadata": {
        "id": "h3AWtsyUgshP"
      },
      "execution_count": null,
      "outputs": []
    },
    {
      "cell_type": "markdown",
      "source": [
        "**2. решающая функция по каждой переменной на частот**"
      ],
      "metadata": {
        "id": "gcDB29qhg2Mi"
      }
    },
    {
      "cell_type": "code",
      "source": [
        "class FreqDiscriminator:\n",
        "    def fit(self, x, y):\n",
        "        y_classes, y_probs = list(np.unique(y, return_counts=True))\n",
        "        y_probs = y_probs / y.shape[0]        \n",
        "        self.y_probs = dict(zip(y_classes, y_probs))\n",
        "        \n",
        "        self.x_probs_by_y = {}\n",
        "        for y_class in y_classes:\n",
        "            x_by_y = x[y == y_class]\n",
        "            self.x_probs_by_y[y_class] = sum(x_by_y)/x_by_y.shape[0]\n",
        "\n",
        "    def pred(self, val):\n",
        "        probs = {}\n",
        "        for y in self.x_probs_by_y.keys():\n",
        "            probs[y] = self.y_probs[y] * sum(self.x_probs_by_y[y]*val)\n",
        "        return max(probs.items(), key=operator.itemgetter(1))[0]\n",
        "        \n",
        "    def predict(self, x):\n",
        "        return np.asarray([self.pred(val) for val in x])\n",
        "\n",
        "feature_start_index = 0\n",
        "for i in range(len(features)):\n",
        "    fd = FreqDiscriminator()\n",
        "    category = encoder.categories_[i]\n",
        "    feature_range = range(feature_start_index, feature_start_index+len(category))\n",
        "    fd.fit(data_x_train[:, feature_range], data_y_train)\n",
        "    y_pred_train = fd.predict(data_x_train[:, feature_range])\n",
        "    y_pred_test = fd.predict(data_x_test[:, feature_range])\n",
        "    print(f'точность [обучающая, {features[i]}]:', \n",
        "          len(y_pred_train[y_pred_train == data_y_train])/len(data_y_train))\n",
        "    print(f'точность [контрольная, {features[i]}]:', \n",
        "          len(y_pred_test[y_pred_test == data_y_test])/len(data_y_test))\n",
        "    feature_start_index += len(category)"
      ],
      "metadata": {
        "colab": {
          "base_uri": "https://localhost:8080/"
        },
        "id": "F0T0HHV-g1Cx",
        "outputId": "677564ba-70d6-4117-a711-4c60f949a686"
      },
      "execution_count": null,
      "outputs": [
        {
          "output_type": "stream",
          "name": "stdout",
          "text": [
            "точность [обучающая, bruises]: 0.742525501231094\n",
            "точность [контрольная, bruises]: 0.7473338802296965\n",
            "точность [обучающая, odor]: 0.9859303552585297\n",
            "точность [контрольная, odor]: 0.9835931091058244\n",
            "точность [обучающая, gill-attachment]: 0.51952163207879\n",
            "точность [контрольная, gill-attachment]: 0.5143560295324036\n",
            "точность [обучающая, gill-spacing]: 0.6158986985578614\n",
            "точность [контрольная, gill-spacing]: 0.616078753076292\n",
            "точность [обучающая, gill-size]: 0.7604642982764686\n",
            "точность [контрольная, gill-size]: 0.7465135356849877\n"
          ]
        }
      ]
    },
    {
      "cell_type": "markdown",
      "source": [
        "**самая информативная переменная - odor**"
      ],
      "metadata": {
        "id": "BkvQOsqSihPv"
      }
    },
    {
      "cell_type": "code",
      "source": [
        "model = BernoulliNB()\n",
        "model.fit(data_x_train, data_y_train)\n",
        "\n",
        "sk_nb_y_pred_train = model.predict(data_x_train)\n",
        "sk_nb_y_pred_test = model.predict(data_x_test)\n",
        "\n",
        "print('Точность[обучающая]:', \n",
        "      len(sk_nb_y_pred_train[sk_nb_y_pred_train == data_y_train])/len(data_y_train))\n",
        "print('Точность[контрольная]:', \n",
        "      len(sk_nb_y_pred_test[sk_nb_y_pred_test == data_y_test])/len(data_y_test))"
      ],
      "metadata": {
        "colab": {
          "base_uri": "https://localhost:8080/"
        },
        "id": "gewXUlSohVZJ",
        "outputId": "908259b1-00e4-4b78-cec4-77cb152ff2ee"
      },
      "execution_count": null,
      "outputs": [
        {
          "output_type": "stream",
          "name": "stdout",
          "text": [
            "Точность[обучающая]: 0.9715089693985227\n",
            "Точность[контрольная]: 0.9639048400328137\n"
          ]
        }
      ]
    },
    {
      "cell_type": "code",
      "source": [
        "class NaiveBayes:\n",
        "    def fit(self, x, y, regularize = False):\n",
        "        probs = {}\n",
        "        y_classes = list(np.unique(y))\n",
        "        for y_class in y_classes:\n",
        "            x_by_y = x[y == y_class]\n",
        "            x_probs_by_y = []\n",
        "            for pos in range(x.shape[1]):\n",
        "                x_by_y_pos = x_by_y[:,pos]\n",
        "                one_prob = (x_by_y_pos.sum()+int(regularize)) / (x_by_y_pos.shape[0]+1+int(regularize))\n",
        "                zero_prob = 1 - one_prob\n",
        "                x_probs_by_y.append((zero_prob, one_prob))\n",
        "            probs[y_class] = x_probs_by_y\n",
        "        self.probs = probs\n",
        "    \n",
        "    def pred(self, row):\n",
        "        probs = {}\n",
        "        for y in self.probs.keys():\n",
        "            prob = 1\n",
        "            for pos in range(len(row)):\n",
        "                prob *= self.probs[y][pos][int(row[pos])]\n",
        "            probs[y] = prob\n",
        "        return max(probs.items(), key=operator.itemgetter(1))[0]\n",
        "    \n",
        "    def predict(self, x):\n",
        "        return np.apply_along_axis(self.pred, 1, x)"
      ],
      "metadata": {
        "id": "ivjY4wpzi80C"
      },
      "execution_count": null,
      "outputs": []
    },
    {
      "cell_type": "code",
      "source": [
        "nb = NaiveBayes()\n",
        "nb.fit(data_x_train, data_y_train)\n",
        "\n",
        "nb_y_pred_train = nb.predict(data_x_train)\n",
        "nb_y_pred_test = nb.predict(data_x_test)\n",
        "\n",
        "print('Без регуляризации\\nТочность [обучающая]:', \n",
        "      len(nb_y_pred_train[nb_y_pred_train == data_y_train])/len(data_y_train))\n",
        "print('Точность [контрольная]:', \n",
        "      len(nb_y_pred_test[nb_y_pred_test == data_y_test])/len(data_y_test))\n",
        "\n",
        "\n",
        "\n",
        "nb.fit(data_x_train, data_y_train, regularize = True)\n",
        "\n",
        "nb_y_pred_train = nb.predict(data_x_train)\n",
        "nb_y_pred_test = nb.predict(data_x_test)\n",
        "\n",
        "print('С регуляризацией\\nТочность [обучающая]:', \n",
        "      len(nb_y_pred_train[nb_y_pred_train == data_y_train])/len(data_y_train))\n",
        "print('Точность [контрольная]:', \n",
        "      len(nb_y_pred_test[nb_y_pred_test == data_y_test])/len(data_y_test))"
      ],
      "metadata": {
        "colab": {
          "base_uri": "https://localhost:8080/"
        },
        "id": "hgSMZzp9jcce",
        "outputId": "e2e4bd32-a6db-427f-a123-d4c4ca2a1078"
      },
      "execution_count": null,
      "outputs": [
        {
          "output_type": "stream",
          "name": "stdout",
          "text": [
            "Без регуляризации\n",
            "Точность [обучающая]: 0.9736194161097432\n",
            "Точность [контрольная]: 0.9663658736669402\n",
            "С регуляризацией\n",
            "Точность [обучающая]: 0.9736194161097432\n",
            "Точность [контрольная]: 0.9663658736669402\n"
          ]
        }
      ]
    },
    {
      "cell_type": "code",
      "source": [
        "logit_train = logit(model.predict_proba(data_x_train))\n",
        "logit_test = logit(model.predict_proba(data_x_test))"
      ],
      "metadata": {
        "id": "vquw1ifOkOcd"
      },
      "execution_count": null,
      "outputs": []
    },
    {
      "cell_type": "code",
      "source": [
        "big_num = pow(10, 10)\n",
        "for i in range(len(logit_train)):\n",
        "    for j in range(2):\n",
        "        if logit_train[i,j] == np.inf:\n",
        "            logit_train[i,j] = big_num\n",
        "        if logit_train[i,j] == -np.inf:\n",
        "            logit_train[i,j] = -big_num\n",
        "for i in range(len(logit_test)):\n",
        "    for j in range(2):\n",
        "        if logit_test[i,j] == np.inf:\n",
        "            logit_test[i,j] = big_num\n",
        "        if logit_test[i,j] == -np.inf:\n",
        "            logit_test[i,j] = -big_num"
      ],
      "metadata": {
        "id": "P5xb1rt7kXnq"
      },
      "execution_count": null,
      "outputs": []
    },
    {
      "cell_type": "code",
      "source": [
        "logreg = LogisticRegression().fit(logit_train, data_y_train)\n",
        "predict = logreg.predict(logit_test)\n",
        "print('Точность [обучающая]:', \n",
        "      sum(logreg.predict(logit_train) == data_y_train)/len(data_y_train))\n",
        "print('Точность [контрольная]:', \n",
        "      sum(logreg.predict(logit_test) == data_y_test)/len(data_y_test))"
      ],
      "metadata": {
        "colab": {
          "base_uri": "https://localhost:8080/"
        },
        "id": "zMg6AmPpkevw",
        "outputId": "76716edc-6a7c-4e7c-c100-03692b53c9f7"
      },
      "execution_count": null,
      "outputs": [
        {
          "output_type": "stream",
          "name": "stdout",
          "text": [
            "Точность [обучающая]: 0.9715089693985227\n",
            "Точность [контрольная]: 0.9639048400328137\n"
          ]
        }
      ]
    },
    {
      "cell_type": "code",
      "source": [
        "model.predict_proba(data_x_train)"
      ],
      "metadata": {
        "colab": {
          "base_uri": "https://localhost:8080/"
        },
        "id": "5gk7zo5SkuFE",
        "outputId": "c966ca37-636f-449d-b3a4-6e160016411b"
      },
      "execution_count": null,
      "outputs": [
        {
          "output_type": "execute_result",
          "data": {
            "text/plain": [
              "array([[1.44570363e-06, 9.99998554e-01],\n",
              "       [9.99704131e-01, 2.95868908e-04],\n",
              "       [9.99704131e-01, 2.95868908e-04],\n",
              "       ...,\n",
              "       [9.99858583e-01, 1.41417099e-04],\n",
              "       [9.99704131e-01, 2.95868908e-04],\n",
              "       [9.99704131e-01, 2.95868908e-04]])"
            ]
          },
          "metadata": {},
          "execution_count": 85
        }
      ]
    },
    {
      "cell_type": "code",
      "source": [
        "class NaiveBayes:\n",
        "    def fit(self, x, y, regularize = False):\n",
        "        probs = {}\n",
        "        y_classes = list(np.unique(y))\n",
        "        for y_class in y_classes:\n",
        "            x_by_y = x[y == y_class]\n",
        "            x_probs_by_y = []\n",
        "            for pos in range(x.shape[1]):\n",
        "                x_by_y_pos = x_by_y[:,pos]\n",
        "                if regularize:\n",
        "                    one_prob = (x_by_y_pos.sum()+1) / (x_by_y_pos.shape[0]+2) \n",
        "                else:\n",
        "                    one_prob = (x_by_y_pos.sum()) / (x_by_y_pos.shape[0]+1) \n",
        "                zero_prob = 1 - one_prob\n",
        "                x_probs_by_y.append((zero_prob, one_prob))\n",
        "            probs[y_class] = x_probs_by_y\n",
        "        self.probs = probs\n",
        "    \n",
        "    def pred(self, row):\n",
        "        probs = {}\n",
        "        for y in self.probs.keys():\n",
        "            prob = 1\n",
        "            for pos in range(len(row)):\n",
        "                prob *= self.probs[y][pos][int(row[pos])]\n",
        "            probs[y] = prob\n",
        "        return max(probs.items(), key=operator.itemgetter(1))[0]\n",
        "    \n",
        "    def probobos(self, row):\n",
        "        probs = {}\n",
        "        for y in self.probs.keys():\n",
        "            prob = 1\n",
        "            for pos in range(len(row)):\n",
        "                prob *= self.probs[y][pos][int(row[pos])]\n",
        "            probs[y] = prob\n",
        "        return probs\n",
        "    \n",
        "    def predict_proba(self, x):\n",
        "        return np.apply_along_axis(self.probobos, 1, x)\n",
        "    \n",
        "    def predict(self, x):\n",
        "        return np.apply_along_axis(self.pred, 1, x)"
      ],
      "metadata": {
        "id": "tJ4lyOTbk5bT"
      },
      "execution_count": null,
      "outputs": []
    },
    {
      "cell_type": "code",
      "source": [
        "nb = NaiveBayes()\n",
        "nb.fit(data_x_train, data_y_train, regularize=True)\n",
        "\n",
        "nb_y_pred_train = nb.predict(data_x_train)\n",
        "nb_y_pred_test = nb.predict(data_x_test)\n",
        "\n",
        "nb.predict_proba(data_x_train)"
      ],
      "metadata": {
        "colab": {
          "base_uri": "https://localhost:8080/"
        },
        "id": "3RSz03mDk7UN",
        "outputId": "3859814d-8d7b-43fd-83e6-19590fd7d6b0"
      },
      "execution_count": null,
      "outputs": [
        {
          "output_type": "execute_result",
          "data": {
            "text/plain": [
              "array([{'e': 1.3842349503699563e-08, 'p': 0.010352844904851475},\n",
              "       {'e': 0.11212297425096815, 'p': 3.587998454147921e-05},\n",
              "       {'e': 0.11212297425096815, 'p': 3.587998454147921e-05}, ...,\n",
              "       {'e': 0.002811717645684177, 'p': 4.2999642679344056e-07},\n",
              "       {'e': 0.11212297425096815, 'p': 3.587998454147921e-05},\n",
              "       {'e': 0.11212297425096815, 'p': 3.587998454147921e-05}],\n",
              "      dtype=object)"
            ]
          },
          "metadata": {},
          "execution_count": 87
        }
      ]
    },
    {
      "cell_type": "code",
      "source": [
        "len(data_x_train)"
      ],
      "metadata": {
        "colab": {
          "base_uri": "https://localhost:8080/"
        },
        "id": "Vlz2GvyxlEiW",
        "outputId": "1d39083e-780a-41f3-fa86-b2940a53d7de"
      },
      "execution_count": null,
      "outputs": [
        {
          "output_type": "execute_result",
          "data": {
            "text/plain": [
              "5686"
            ]
          },
          "metadata": {},
          "execution_count": 88
        }
      ]
    },
    {
      "cell_type": "code",
      "source": [
        "nb.probs['p']"
      ],
      "metadata": {
        "id": "wcABr_IglRYb",
        "outputId": "e8c29c29-11c9-4dfb-a67a-e0ee0b3308aa",
        "colab": {
          "base_uri": "https://localhost:8080/"
        }
      },
      "execution_count": null,
      "outputs": [
        {
          "output_type": "execute_result",
          "data": {
            "text/plain": [
              "[(0.15874177029992687, 0.8412582297000731),\n",
              " (0.8412582297000731, 0.15874177029992684),\n",
              " (0.9996342355523044, 0.000365764447695684),\n",
              " (0.9495245062179956, 0.05047549378200439),\n",
              " (0.4476956839795172, 0.5523043160204828),\n",
              " (0.9996342355523044, 0.000365764447695684),\n",
              " (0.9915874177029993, 0.008412582297000731),\n",
              " (0.9703730797366495, 0.0296269202633504),\n",
              " (0.9323335771762985, 0.06766642282370154),\n",
              " (0.8525969275786394, 0.14740307242136064),\n",
              " (0.8540599853694221, 0.1459400146305779),\n",
              " (0.9952450621799561, 0.004754937820043892),\n",
              " (0.004754937820043881, 0.9952450621799561),\n",
              " (0.029992684711046103, 0.9700073152889539),\n",
              " (0.9700073152889539, 0.029992684711046085),\n",
              " (0.5753474762253109, 0.4246525237746891),\n",
              " (0.4246525237746891, 0.5753474762253109)]"
            ]
          },
          "metadata": {},
          "execution_count": 89
        }
      ]
    },
    {
      "cell_type": "code",
      "source": [],
      "metadata": {
        "id": "D77yolVenHLM"
      },
      "execution_count": null,
      "outputs": []
    }
  ]
}